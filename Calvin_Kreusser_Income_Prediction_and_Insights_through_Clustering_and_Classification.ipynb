{
 "cells": [
  {
   "cell_type": "markdown",
   "id": "405c14b4",
   "metadata": {},
   "source": [
    "## Income Prediction and Insights through Clustering and Classification\n",
    "\n",
    "In this project, we delve into the realm of data analysis methodologies to systematically uncover underlying patterns within a complex dataset, focusing on income distribution. Our exploration begins with crucial preprocessing steps, encompassing data cleaning, strategic feature selection, and the application of one-hot encoding techniques. Subsequently, we harness the power of K-means clustering to unveil distinct income clusters present within the data. Moreover, we employ various classification algorithms to predict income categories, and critically evaluate the performance of these predictive models using rigorous metrics."
   ]
  },
  {
   "cell_type": "code",
   "execution_count": 2,
   "id": "b2778a86",
   "metadata": {},
   "outputs": [],
   "source": [
    "import pandas as pd\n",
    "import re\n",
    "import numpy as np\n",
    "from sklearn.linear_model import LogisticRegression\n",
    "from sklearn.naive_bayes import GaussianNB\n",
    "from sklearn.tree import DecisionTreeClassifier\n",
    "from sklearn.cluster import KMeans\n",
    "from sklearn.ensemble import RandomForestClassifier\n",
    "from sklearn.decomposition import PCA\n",
    "from sklearn.metrics import accuracy_score\n",
    "import matplotlib.pyplot as plt\n",
    "import scipy.cluster.hierarchy as sch"
   ]
  },
  {
   "cell_type": "code",
   "execution_count": 3,
   "id": "cb4db36f",
   "metadata": {},
   "outputs": [
    {
     "name": "stdout",
     "output_type": "stream",
     "text": [
      "Training data:\n",
      "   age                  class_of_worker  industry_code  occupation_code  \\\n",
      "0   73                  Not in universe              0                0   \n",
      "1   58   Self-employed-not incorporated              4               34   \n",
      "2   18                  Not in universe              0                0   \n",
      "3    9                  Not in universe              0                0   \n",
      "4   10                  Not in universe              0                0   \n",
      "\n",
      "                     education  adjusted_gross_income  \\\n",
      "0         High school graduate                      0   \n",
      "1   Some college but no degree                      0   \n",
      "2                   10th grade                      0   \n",
      "3                     Children                      0   \n",
      "4                     Children                      0   \n",
      "\n",
      "  enrolled_in_edu_inst_last_wk  marital_status           major_industry_code  \\\n",
      "0              Not in universe         Widowed   Not in universe or children   \n",
      "1              Not in universe        Divorced                  Construction   \n",
      "2                  High school   Never married   Not in universe or children   \n",
      "3              Not in universe   Never married   Not in universe or children   \n",
      "4              Not in universe   Never married   Not in universe or children   \n",
      "\n",
      "                  major_occupation_code  ... country_of_birth_father  \\\n",
      "0                       Not in universe  ...           United-States   \n",
      "1   Precision production craft & repair  ...           United-States   \n",
      "2                       Not in universe  ...                 Vietnam   \n",
      "3                       Not in universe  ...           United-States   \n",
      "4                       Not in universe  ...           United-States   \n",
      "\n",
      "  country_of_birth_mother country_of_birth_self  \\\n",
      "0           United-States         United-States   \n",
      "1           United-States         United-States   \n",
      "2                 Vietnam               Vietnam   \n",
      "3           United-States         United-States   \n",
      "4           United-States         United-States   \n",
      "\n",
      "                            citizenship total_person_income  \\\n",
      "0     Native- Born in the United States                   0   \n",
      "1     Native- Born in the United States                   0   \n",
      "2   Foreign born- Not a citizen of U S                    0   \n",
      "3     Native- Born in the United States                   0   \n",
      "4     Native- Born in the United States                   0   \n",
      "\n",
      "  own_business_or_self_employed  veterans_benefits  weeks_worked_in_year  \\\n",
      "0               Not in universe                  2                     0   \n",
      "1               Not in universe                  2                    52   \n",
      "2               Not in universe                  2                     0   \n",
      "3               Not in universe                  0                     0   \n",
      "4               Not in universe                  0                     0   \n",
      "\n",
      "   year     target  \n",
      "0    95   - 50000.  \n",
      "1    94   - 50000.  \n",
      "2    95   - 50000.  \n",
      "3    94   - 50000.  \n",
      "4    94   - 50000.  \n",
      "\n",
      "[5 rows x 42 columns]\n",
      "\n",
      "Test data:\n",
      "   age                  class_of_worker  industry_code  occupation_code  \\\n",
      "0   38                          Private              6               36   \n",
      "1   44   Self-employed-not incorporated             37               12   \n",
      "2    2                  Not in universe              0                0   \n",
      "3   35                          Private             29                3   \n",
      "4   49                          Private              4               34   \n",
      "\n",
      "                              education  adjusted_gross_income  \\\n",
      "0              1st 2nd 3rd or 4th grade                      0   \n",
      "1   Associates degree-occup /vocational                      0   \n",
      "2                              Children                      0   \n",
      "3                  High school graduate                      0   \n",
      "4                  High school graduate                      0   \n",
      "\n",
      "  enrolled_in_edu_inst_last_wk                    marital_status  \\\n",
      "0              Not in universe   Married-civilian spouse present   \n",
      "1              Not in universe   Married-civilian spouse present   \n",
      "2              Not in universe                     Never married   \n",
      "3              Not in universe                          Divorced   \n",
      "4              Not in universe                          Divorced   \n",
      "\n",
      "             major_industry_code                   major_occupation_code  ...  \\\n",
      "0    Manufacturing-durable goods   Machine operators assmblrs & inspctrs  ...   \n",
      "1   Business and repair services                  Professional specialty  ...   \n",
      "2    Not in universe or children                         Not in universe  ...   \n",
      "3                 Transportation          Executive admin and managerial  ...   \n",
      "4                   Construction     Precision production craft & repair  ...   \n",
      "\n",
      "  country_of_birth_father country_of_birth_mother country_of_birth_self  \\\n",
      "0                  Mexico                  Mexico                Mexico   \n",
      "1           United-States           United-States         United-States   \n",
      "2           United-States           United-States         United-States   \n",
      "3           United-States           United-States         United-States   \n",
      "4           United-States           United-States         United-States   \n",
      "\n",
      "                            citizenship total_person_income  \\\n",
      "0   Foreign born- Not a citizen of U S                    0   \n",
      "1     Native- Born in the United States                   0   \n",
      "2     Native- Born in the United States                   0   \n",
      "3     Native- Born in the United States                   2   \n",
      "4     Native- Born in the United States                   0   \n",
      "\n",
      "  own_business_or_self_employed  veterans_benefits  weeks_worked_in_year  \\\n",
      "0               Not in universe                  2                    12   \n",
      "1               Not in universe                  2                    26   \n",
      "2               Not in universe                  0                     0   \n",
      "3               Not in universe                  2                    52   \n",
      "4               Not in universe                  2                    50   \n",
      "\n",
      "   year     target  \n",
      "0    95   - 50000.  \n",
      "1    95   - 50000.  \n",
      "2    95   - 50000.  \n",
      "3    94   - 50000.  \n",
      "4    95   - 50000.  \n",
      "\n",
      "[5 rows x 42 columns]\n"
     ]
    }
   ],
   "source": [
    "# Define column names based on the samples and metadata\n",
    "column_names = [\n",
    "    'age', 'class_of_worker', 'industry_code', 'occupation_code', 'education',\n",
    "    'adjusted_gross_income', 'enrolled_in_edu_inst_last_wk', 'marital_status', 'major_industry_code',\n",
    "    'major_occupation_code', 'race', 'hispanic_origin', 'sex', 'member_of_a_labor_union',\n",
    "    'reason_for_unemployment', 'full_or_part_time_employment_stat', 'capital_gains',\n",
    "    'capital_losses', 'dividends_from_stocks', 'tax_filer_status', 'region_of_previous_residence',\n",
    "    'state_of_previous_residence', 'detailed_household_and_family_stat', 'detailed_household_summary_in_household',\n",
    "    'instance_weight', 'migration_code_change_in_msa', 'migration_code_change_in_reg',\n",
    "    'migration_code_move_within_reg', 'live_in_this_house_1_year_ago', 'migration_prev_res_in_sunbelt',\n",
    "    'num_persons_worked_for_employer', 'family_members_under_18', 'country_of_birth_father',\n",
    "    'country_of_birth_mother', 'country_of_birth_self', 'citizenship', 'total_person_income',\n",
    "    'own_business_or_self_employed', 'veterans_benefits', 'weeks_worked_in_year', 'year', 'target'\n",
    "]\n",
    "\n",
    "# Load the training data\n",
    "train_data = pd.read_csv('census_income_train.csv', names=column_names)\n",
    "\n",
    "# Load the test data\n",
    "test_data = pd.read_csv('census_income_test.csv', names=column_names)\n",
    "\n",
    "# Print the first few rows of the training data\n",
    "print(\"Training data:\")\n",
    "print(train_data.head())\n",
    "\n",
    "# Print the first few rows of the test data\n",
    "print(\"\\nTest data:\")\n",
    "print(test_data.head())\n"
   ]
  },
  {
   "cell_type": "markdown",
   "id": "4d30eedd",
   "metadata": {},
   "source": [
    "### Code Explanation and Data Overview\n",
    "\n",
    "This code loads two datasets: one for training and another for testing. These datasets comprise a diverse range of attributes, including *age*, *occupation*, *education*, *adjusted gross income*, and more. The **\"target\"** column serves as a crucial label, indicating whether an individual's income exceeds or falls below $50,000. The code showcases a glimpse of the initial rows from both datasets, laying the foundation for subsequent analyses, which encompass classification and clustering techniques. These techniques aim to unearth underlying patterns within the income distribution.\n",
    "\n",
    "### Insight into Data Structure\n",
    "\n",
    "**Training Data:**\n",
    "\n",
    "| age | class_of_worker             | industry_code | occupation_code | ... | total_person_income | year | target      |\n",
    "|-----|-----------------------------|---------------|-----------------|-----|--------------------|------|-------------|\n",
    "| 73  | Not in universe            | 0             | 0               | ... | 0                  | 95   | - 50000.    |\n",
    "| 58  | Self-employed-not incorporated | 4           | 34              | ... | 0                  | 94   | - 50000.    |\n",
    "| ... | ...                         | ...           | ...             | ... | ...                | ...  | ...         |\n",
    "\n",
    "**Test Data:**\n",
    "\n",
    "| age | class_of_worker             | industry_code | occupation_code | ... | total_person_income | year | target      |\n",
    "|-----|-----------------------------|---------------|-----------------|-----|--------------------|------|-------------|\n",
    "| 38  | Private                     | 6             | 36              | ... | 0                  | 95   | - 50000.    |\n",
    "| 44  | Self-employed-not incorporated | 37          | 12              | ... | 0                  | 95   | - 50000.    |\n",
    "| ... | ...                         | ...           | ...             | ... | ...                | ...  | ...         |\n",
    "\n",
    "These datasets provide valuable insights into attributes associated with individuals' incomes, forming the basis for subsequent analyses and model development.\n"
   ]
  },
  {
   "cell_type": "code",
   "execution_count": 4,
   "id": "376172ee",
   "metadata": {},
   "outputs": [
    {
     "name": "stdout",
     "output_type": "stream",
     "text": [
      "age                                            0\n",
      "class_of_worker                                0\n",
      "industry_code                                  0\n",
      "occupation_code                                0\n",
      "education                                      0\n",
      "adjusted_gross_income                          0\n",
      "enrolled_in_edu_inst_last_wk                   0\n",
      "marital_status                                 0\n",
      "major_industry_code                            0\n",
      "major_occupation_code                          0\n",
      "race                                           0\n",
      "hispanic_origin                                0\n",
      "sex                                            0\n",
      "member_of_a_labor_union                        0\n",
      "reason_for_unemployment                        0\n",
      "full_or_part_time_employment_stat              0\n",
      "capital_gains                                  0\n",
      "capital_losses                                 0\n",
      "dividends_from_stocks                          0\n",
      "tax_filer_status                               0\n",
      "region_of_previous_residence                   0\n",
      "state_of_previous_residence                  708\n",
      "detailed_household_and_family_stat             0\n",
      "detailed_household_summary_in_household        0\n",
      "instance_weight                                0\n",
      "migration_code_change_in_msa               99696\n",
      "migration_code_change_in_reg               99696\n",
      "migration_code_move_within_reg             99696\n",
      "live_in_this_house_1_year_ago                  0\n",
      "migration_prev_res_in_sunbelt              99696\n",
      "num_persons_worked_for_employer                0\n",
      "family_members_under_18                        0\n",
      "country_of_birth_father                     6713\n",
      "country_of_birth_mother                     6119\n",
      "country_of_birth_self                       3393\n",
      "citizenship                                    0\n",
      "total_person_income                            0\n",
      "own_business_or_self_employed                  0\n",
      "veterans_benefits                              0\n",
      "weeks_worked_in_year                           0\n",
      "year                                           0\n",
      "target                                         0\n",
      "dtype: int64\n"
     ]
    }
   ],
   "source": [
    "# Replace missing values with NaN\n",
    "train_data = train_data.replace(' ?', np.NaN)\n",
    "test_data = test_data.replace(' ?', np.NaN)\n",
    "\n",
    "print(train_data.isnull().sum())"
   ]
  },
  {
   "cell_type": "code",
   "execution_count": 5,
   "id": "ffeaf2ea",
   "metadata": {},
   "outputs": [
    {
     "name": "stdout",
     "output_type": "stream",
     "text": [
      "age                                        0.000000\n",
      "class_of_worker                            0.000000\n",
      "industry_code                              0.000000\n",
      "occupation_code                            0.000000\n",
      "education                                  0.000000\n",
      "adjusted_gross_income                      0.000000\n",
      "enrolled_in_edu_inst_last_wk               0.000000\n",
      "marital_status                             0.000000\n",
      "major_industry_code                        0.000000\n",
      "major_occupation_code                      0.000000\n",
      "race                                       0.000000\n",
      "hispanic_origin                            0.000000\n",
      "sex                                        0.000000\n",
      "member_of_a_labor_union                    0.000000\n",
      "reason_for_unemployment                    0.000000\n",
      "full_or_part_time_employment_stat          0.000000\n",
      "capital_gains                              0.000000\n",
      "capital_losses                             0.000000\n",
      "dividends_from_stocks                      0.000000\n",
      "tax_filer_status                           0.000000\n",
      "region_of_previous_residence               0.000000\n",
      "state_of_previous_residence                0.003548\n",
      "detailed_household_and_family_stat         0.000000\n",
      "detailed_household_summary_in_household    0.000000\n",
      "instance_weight                            0.000000\n",
      "migration_code_change_in_msa               0.499672\n",
      "migration_code_change_in_reg               0.499672\n",
      "migration_code_move_within_reg             0.499672\n",
      "live_in_this_house_1_year_ago              0.000000\n",
      "migration_prev_res_in_sunbelt              0.499672\n",
      "num_persons_worked_for_employer            0.000000\n",
      "family_members_under_18                    0.000000\n",
      "country_of_birth_father                    0.033645\n",
      "country_of_birth_mother                    0.030668\n",
      "country_of_birth_self                      0.017006\n",
      "citizenship                                0.000000\n",
      "total_person_income                        0.000000\n",
      "own_business_or_self_employed              0.000000\n",
      "veterans_benefits                          0.000000\n",
      "weeks_worked_in_year                       0.000000\n",
      "year                                       0.000000\n",
      "target                                     0.000000\n",
      "dtype: float64\n"
     ]
    }
   ],
   "source": [
    "print(train_data.isnull().sum()/len(train_data))"
   ]
  },
  {
   "cell_type": "code",
   "execution_count": 6,
   "id": "679e9cd0",
   "metadata": {},
   "outputs": [
    {
     "name": "stdout",
     "output_type": "stream",
     "text": [
      "age                                        0.000000\n",
      "class_of_worker                            0.000000\n",
      "industry_code                              0.000000\n",
      "occupation_code                            0.000000\n",
      "education                                  0.000000\n",
      "adjusted_gross_income                      0.000000\n",
      "enrolled_in_edu_inst_last_wk               0.000000\n",
      "marital_status                             0.000000\n",
      "major_industry_code                        0.000000\n",
      "major_occupation_code                      0.000000\n",
      "race                                       0.000000\n",
      "hispanic_origin                            0.000000\n",
      "sex                                        0.000000\n",
      "member_of_a_labor_union                    0.000000\n",
      "reason_for_unemployment                    0.000000\n",
      "full_or_part_time_employment_stat          0.000000\n",
      "capital_gains                              0.000000\n",
      "capital_losses                             0.000000\n",
      "dividends_from_stocks                      0.000000\n",
      "tax_filer_status                           0.000000\n",
      "region_of_previous_residence               0.000000\n",
      "state_of_previous_residence                0.003548\n",
      "detailed_household_and_family_stat         0.000000\n",
      "detailed_household_summary_in_household    0.000000\n",
      "instance_weight                            0.000000\n",
      "live_in_this_house_1_year_ago              0.000000\n",
      "num_persons_worked_for_employer            0.000000\n",
      "family_members_under_18                    0.000000\n",
      "country_of_birth_father                    0.033645\n",
      "country_of_birth_mother                    0.030668\n",
      "country_of_birth_self                      0.017006\n",
      "citizenship                                0.000000\n",
      "total_person_income                        0.000000\n",
      "own_business_or_self_employed              0.000000\n",
      "veterans_benefits                          0.000000\n",
      "weeks_worked_in_year                       0.000000\n",
      "year                                       0.000000\n",
      "target                                     0.000000\n",
      "dtype: float64\n"
     ]
    }
   ],
   "source": [
    "train_data = train_data.drop(columns = ['migration_code_change_in_msa','migration_code_change_in_reg', 'migration_code_move_within_reg', 'migration_prev_res_in_sunbelt'])\n",
    "test_data = test_data.drop(columns = ['migration_code_change_in_msa','migration_code_change_in_reg', 'migration_code_move_within_reg', 'migration_prev_res_in_sunbelt'])\n",
    "print(train_data.isnull().sum()/len(train_data))"
   ]
  },
  {
   "cell_type": "code",
   "execution_count": 7,
   "id": "12b5aaac",
   "metadata": {},
   "outputs": [
    {
     "name": "stdout",
     "output_type": "stream",
     "text": [
      "(99762, 38)\n",
      "(199523, 38)\n"
     ]
    }
   ],
   "source": [
    "print(test_data.shape)\n",
    "print(train_data.shape)"
   ]
  },
  {
   "cell_type": "code",
   "execution_count": 8,
   "id": "ef16bd9d",
   "metadata": {},
   "outputs": [
    {
     "name": "stdout",
     "output_type": "stream",
     "text": [
      "Shape of encoded training data: (199523, 473)\n",
      "Encoded training data (first 5 rows):\n",
      "    age  adjusted_gross_income  capital_gains  capital_losses  \\\n",
      "0   73                      0              0               0   \n",
      "1   58                      0              0               0   \n",
      "2   18                      0              0               0   \n",
      "3    9                      0              0               0   \n",
      "4   10                      0              0               0   \n",
      "\n",
      "   dividends_from_stocks  instance_weight  num_persons_worked_for_employer  \\\n",
      "0                      0          1700.09                                0   \n",
      "1                      0          1053.55                                1   \n",
      "2                      0           991.95                                0   \n",
      "3                      0          1758.14                                0   \n",
      "4                      0          1069.16                                0   \n",
      "\n",
      "   total_person_income  weeks_worked_in_year     target  ...  \\\n",
      "0                    0                     0   - 50000.  ...   \n",
      "1                    0                    52   - 50000.  ...   \n",
      "2                    0                     0   - 50000.  ...   \n",
      "3                    0                     0   - 50000.  ...   \n",
      "4                    0                     0   - 50000.  ...   \n",
      "\n",
      "   citizenship_ Native- Born in Puerto Rico or U S Outlying  \\\n",
      "0                                                  0          \n",
      "1                                                  0          \n",
      "2                                                  0          \n",
      "3                                                  0          \n",
      "4                                                  0          \n",
      "\n",
      "   citizenship_ Native- Born in the United States  \\\n",
      "0                                               1   \n",
      "1                                               1   \n",
      "2                                               0   \n",
      "3                                               1   \n",
      "4                                               1   \n",
      "\n",
      "   own_business_or_self_employed_ No  \\\n",
      "0                                  0   \n",
      "1                                  0   \n",
      "2                                  0   \n",
      "3                                  0   \n",
      "4                                  0   \n",
      "\n",
      "   own_business_or_self_employed_ Not in universe  \\\n",
      "0                                               1   \n",
      "1                                               1   \n",
      "2                                               1   \n",
      "3                                               1   \n",
      "4                                               1   \n",
      "\n",
      "   own_business_or_self_employed_ Yes  veterans_benefits_0  \\\n",
      "0                                   0                    0   \n",
      "1                                   0                    0   \n",
      "2                                   0                    0   \n",
      "3                                   0                    1   \n",
      "4                                   0                    1   \n",
      "\n",
      "   veterans_benefits_1  veterans_benefits_2  year_94  year_95  \n",
      "0                    0                    1        0        1  \n",
      "1                    0                    1        1        0  \n",
      "2                    0                    1        0        1  \n",
      "3                    0                    0        1        0  \n",
      "4                    0                    0        1        0  \n",
      "\n",
      "[5 rows x 473 columns]\n",
      "Shape of encoded test data: (99762, 472)\n",
      "Encoded test data (first 5 rows):\n",
      "    age  adjusted_gross_income  capital_gains  capital_losses  \\\n",
      "0   38                      0              0               0   \n",
      "1   44                      0              0               0   \n",
      "2    2                      0              0               0   \n",
      "3   35                      0              0               0   \n",
      "4   49                      0              0               0   \n",
      "\n",
      "   dividends_from_stocks  instance_weight  num_persons_worked_for_employer  \\\n",
      "0                      0          1032.38                                4   \n",
      "1                   2500          1462.33                                1   \n",
      "2                      0          1601.75                                0   \n",
      "3                      0          1866.88                                5   \n",
      "4                      0          1394.54                                4   \n",
      "\n",
      "   total_person_income  weeks_worked_in_year     target  ...  \\\n",
      "0                    0                    12   - 50000.  ...   \n",
      "1                    0                    26   - 50000.  ...   \n",
      "2                    0                     0   - 50000.  ...   \n",
      "3                    2                    52   - 50000.  ...   \n",
      "4                    0                    50   - 50000.  ...   \n",
      "\n",
      "   citizenship_ Native- Born in Puerto Rico or U S Outlying  \\\n",
      "0                                                  0          \n",
      "1                                                  0          \n",
      "2                                                  0          \n",
      "3                                                  0          \n",
      "4                                                  0          \n",
      "\n",
      "   citizenship_ Native- Born in the United States  \\\n",
      "0                                               0   \n",
      "1                                               1   \n",
      "2                                               1   \n",
      "3                                               1   \n",
      "4                                               1   \n",
      "\n",
      "   own_business_or_self_employed_ No  \\\n",
      "0                                  0   \n",
      "1                                  0   \n",
      "2                                  0   \n",
      "3                                  0   \n",
      "4                                  0   \n",
      "\n",
      "   own_business_or_self_employed_ Not in universe  \\\n",
      "0                                               1   \n",
      "1                                               1   \n",
      "2                                               1   \n",
      "3                                               1   \n",
      "4                                               1   \n",
      "\n",
      "   own_business_or_self_employed_ Yes  veterans_benefits_0  \\\n",
      "0                                   0                    0   \n",
      "1                                   0                    0   \n",
      "2                                   0                    1   \n",
      "3                                   0                    0   \n",
      "4                                   0                    0   \n",
      "\n",
      "   veterans_benefits_1  veterans_benefits_2  year_94  year_95  \n",
      "0                    0                    1        0        1  \n",
      "1                    0                    1        0        1  \n",
      "2                    0                    0        0        1  \n",
      "3                    0                    1        1        0  \n",
      "4                    0                    1        0        1  \n",
      "\n",
      "[5 rows x 472 columns]\n"
     ]
    }
   ],
   "source": [
    "categorical_columns = [\n",
    "    'class_of_worker', 'industry_code', 'occupation_code', 'education',\n",
    "    'enrolled_in_edu_inst_last_wk', 'marital_status', 'major_industry_code',\n",
    "    'major_occupation_code', 'race', 'hispanic_origin', 'sex', 'member_of_a_labor_union',\n",
    "    'reason_for_unemployment', 'full_or_part_time_employment_stat',\n",
    "    'tax_filer_status', 'region_of_previous_residence',\n",
    "    'state_of_previous_residence', 'detailed_household_and_family_stat',\n",
    "    'detailed_household_summary_in_household', 'live_in_this_house_1_year_ago',\n",
    "    'family_members_under_18', 'country_of_birth_father',\n",
    "    'country_of_birth_mother', 'country_of_birth_self', 'citizenship',\n",
    "    'own_business_or_self_employed', 'veterans_benefits', 'year'\n",
    "]\n",
    "\n",
    "\n",
    "# Apply one-hot encoding to the training data\n",
    "train_data = pd.get_dummies(train_data, columns=categorical_columns)\n",
    "\n",
    "# Apply one-hot encoding to the test data\n",
    "test_data = pd.get_dummies(test_data, columns=categorical_columns)\n",
    "\n",
    "# Print the shape of the encoded training data\n",
    "print(\"Shape of encoded training data:\", train_data.shape)\n",
    "\n",
    "# Print the first few rows of the encoded training data\n",
    "print(\"Encoded training data (first 5 rows):\\n\", train_data.head())\n",
    "\n",
    "# Print the shape of the encoded test data\n",
    "print(\"Shape of encoded test data:\", test_data.shape)\n",
    "\n",
    "# Print the first few rows of the encoded test data\n",
    "print(\"Encoded test data (first 5 rows):\\n\", test_data.head())"
   ]
  },
  {
   "cell_type": "code",
   "execution_count": 9,
   "id": "7cd7c719",
   "metadata": {},
   "outputs": [],
   "source": [
    "# print(test_data.shape)\n",
    "# print(len(numeric_test_columns))"
   ]
  },
  {
   "cell_type": "code",
   "execution_count": 10,
   "id": "383f1278",
   "metadata": {},
   "outputs": [
    {
     "name": "stdout",
     "output_type": "stream",
     "text": [
      "(199523, 472)\n",
      "(99762, 471)\n",
      "(199523,)\n",
      "(99762,)\n"
     ]
    }
   ],
   "source": [
    "# Drop additional 'target' column from X_train and X_test\n",
    "X_train = train_data.drop(columns = ['target'])\n",
    "X_test = test_data.drop(columns = ['target'])\n",
    "y_train = train_data['target']\n",
    "y_test = test_data['target']\n",
    "print(X_train.shape)\n",
    "print(X_test.shape)\n",
    "print(y_train.shape)\n",
    "print(y_test.shape)"
   ]
  },
  {
   "cell_type": "code",
   "execution_count": 11,
   "id": "af383257",
   "metadata": {},
   "outputs": [
    {
     "name": "stdout",
     "output_type": "stream",
     "text": [
      "{'detailed_household_and_family_stat_ Grandchild <18 ever marr not in subfamily'}\n"
     ]
    }
   ],
   "source": [
    "# Find additional column\n",
    "print(set(X_train.columns)-set(X_test.columns))"
   ]
  },
  {
   "cell_type": "code",
   "execution_count": 12,
   "id": "7cdf048c",
   "metadata": {},
   "outputs": [],
   "source": [
    "# Drop additional column\n",
    "X_train = X_train.drop(columns = ['detailed_household_and_family_stat_ Grandchild <18 ever marr not in subfamily'])"
   ]
  },
  {
   "cell_type": "code",
   "execution_count": 13,
   "id": "9448da48",
   "metadata": {},
   "outputs": [
    {
     "name": "stdout",
     "output_type": "stream",
     "text": [
      "(199523, 471)\n",
      "(99762, 471)\n",
      "(199523,)\n",
      "(99762,)\n"
     ]
    }
   ],
   "source": [
    "print(X_train.shape)\n",
    "print(X_test.shape)\n",
    "print(y_train.shape)\n",
    "print(y_test.shape)"
   ]
  },
  {
   "cell_type": "code",
   "execution_count": 14,
   "id": "3b4476dd",
   "metadata": {},
   "outputs": [
    {
     "name": "stderr",
     "output_type": "stream",
     "text": [
      "/Users/kruz/opt/anaconda3/envs/geo_env/lib/python3.10/site-packages/sklearn/linear_model/_logistic.py:444: ConvergenceWarning: lbfgs failed to converge (status=1):\n",
      "STOP: TOTAL NO. of ITERATIONS REACHED LIMIT.\n",
      "\n",
      "Increase the number of iterations (max_iter) or scale the data as shown in:\n",
      "    https://scikit-learn.org/stable/modules/preprocessing.html\n",
      "Please also refer to the documentation for alternative solver options:\n",
      "    https://scikit-learn.org/stable/modules/linear_model.html#logistic-regression\n",
      "  n_iter_i = _check_optimize_result(\n"
     ]
    },
    {
     "name": "stdout",
     "output_type": "stream",
     "text": [
      "Training Accuracy: 0.9449436907023251\n",
      "Test Accuracy: 0.9446683105791784\n"
     ]
    }
   ],
   "source": [
    "# Initialize and fit the logistic regression model\n",
    "logreg = LogisticRegression()\n",
    "logreg.fit(X_train, y_train)\n",
    "\n",
    "# Predict on the training and test data\n",
    "train_predictions = logreg.predict(X_train)\n",
    "test_predictions = logreg.predict(X_test)\n",
    "\n",
    "# Calculate and print the accuracy scores\n",
    "train_accuracy = accuracy_score(y_train, train_predictions)\n",
    "test_accuracy = accuracy_score(y_test, test_predictions)\n",
    "print(\"Training Accuracy:\", train_accuracy)\n",
    "print(\"Test Accuracy:\", test_accuracy)"
   ]
  },
  {
   "cell_type": "markdown",
   "id": "4c18bf2f",
   "metadata": {},
   "source": [
    "These high accuracy scores suggest that the **Logistic Regression** model is performing well on both the training and test datasets, indicating a good ability to generalize to unseen data. However, further analysis is needed to assess potential overfitting and explore other evaluation metrics to ensure a comprehensive evaluation of the model's performance."
   ]
  },
  {
   "cell_type": "code",
   "execution_count": 15,
   "id": "142a283e",
   "metadata": {},
   "outputs": [
    {
     "name": "stdout",
     "output_type": "stream",
     "text": [
      "Training Accuracy: 0.9448083679575788\n",
      "Test Accuracy: 0.9446883582927367\n"
     ]
    }
   ],
   "source": [
    "# Initialize and fit the Decision Tree model with specified parameters\n",
    "max_depth = 3  # Choose the maximum depth of the tree\n",
    "random_state = 42  # Set the random state for reproducibility\n",
    "dectree = DecisionTreeClassifier(max_depth=max_depth, random_state=random_state)\n",
    "dectree.fit(X_train, y_train)\n",
    "\n",
    "# Predict on the training and test data\n",
    "train_predictions = dectree.predict(X_train)\n",
    "test_predictions = dectree.predict(X_test)\n",
    "\n",
    "# Calculate and print the accuracy scores\n",
    "train_accuracy = accuracy_score(y_train, train_predictions)\n",
    "test_accuracy = accuracy_score(y_test, test_predictions)\n",
    "print(\"Training Accuracy:\", train_accuracy)\n",
    "print(\"Test Accuracy:\", test_accuracy)"
   ]
  },
  {
   "cell_type": "markdown",
   "id": "004b550c",
   "metadata": {},
   "source": [
    "The **Decision Tree** model, with a maximum depth of **3** and a fixed random state of **42**, achieved a **training accuracy** of approximately **94.48%** and a **test accuracy** of around **94.47%**. These accuracy scores are similar to those obtained by the Logistic Regression model, indicating consistent performance on both training and test datasets."
   ]
  },
  {
   "cell_type": "code",
   "execution_count": 16,
   "id": "07fcd079",
   "metadata": {},
   "outputs": [
    {
     "name": "stdout",
     "output_type": "stream",
     "text": [
      "Training Accuracy: 0.7468362043473685\n",
      "Test Accuracy: 0.7482608608488202\n"
     ]
    }
   ],
   "source": [
    "# Initialize and fit the Naive Bayes model\n",
    "nb = GaussianNB()\n",
    "nb.fit(X_train, y_train)\n",
    "\n",
    "# Predict on the training and test data\n",
    "train_predictions = nb.predict(X_train)\n",
    "test_predictions = nb.predict(X_test)\n",
    "\n",
    "# Calculate and print the accuracy scores\n",
    "train_accuracy = accuracy_score(y_train, train_predictions)\n",
    "test_accuracy = accuracy_score(y_test, test_predictions)\n",
    "print(\"Training Accuracy:\", train_accuracy)\n",
    "print(\"Test Accuracy:\", test_accuracy)"
   ]
  },
  {
   "cell_type": "markdown",
   "id": "84d589ec",
   "metadata": {},
   "source": [
    "The **Naive Bayes** model, specifically the **Gaussian Naive Bayes** variant, achieved a **training accuracy** of approximately **74.68%** and a **test accuracy** of around **74.83%**. These accuracy scores are notably lower compared to the Logistic Regression and Decision Tree models. The Naive Bayes algorithm makes the assumption of feature independence, which might not hold well for all features in this dataset, potentially leading to suboptimal performance. Despite its simplicity and assumptions, the model provides an alternative approach for classification tasks."
   ]
  },
  {
   "cell_type": "code",
   "execution_count": 17,
   "id": "ac9630d1",
   "metadata": {},
   "outputs": [
    {
     "name": "stdout",
     "output_type": "stream",
     "text": [
      "Training Accuracy: 0.9999799521859635\n",
      "Test Accuracy: 0.9544315470820552\n"
     ]
    }
   ],
   "source": [
    "# Initialize and fit the Random Forest model with specified parameters\n",
    "n_estimators = 100  # Number of trees in the forest\n",
    "random_state = 42  # Set the random state for reproducibility\n",
    "rf = RandomForestClassifier(n_estimators=n_estimators, random_state=random_state)\n",
    "rf.fit(X_train, y_train)\n",
    "\n",
    "# Predict on the training and test data\n",
    "train_predictions = rf.predict(X_train)\n",
    "test_predictions = rf.predict(X_test)\n",
    "\n",
    "# Calculate and print the accuracy scores\n",
    "train_accuracy = accuracy_score(y_train, train_predictions)\n",
    "test_accuracy = accuracy_score(y_test, test_predictions)\n",
    "print(\"Training Accuracy:\", train_accuracy)\n",
    "print(\"Test Accuracy:\", test_accuracy)"
   ]
  },
  {
   "cell_type": "markdown",
   "id": "c5bcadd2",
   "metadata": {},
   "source": [
    "The **Random Forest** model, utilizing an ensemble of decision trees, demonstrated impressive performance. It achieved a **training accuracy** that is close to **99.99%**, while maintaining a high **test accuracy** of about **95.44%**. The model's ability to combine multiple decision trees and mitigate overfitting contributes to its robust performance. However, the near-perfect training accuracy suggests potential overfitting to the training data, which could limit its generalization to new, unseen data. The Random Forest model showcases the power of ensemble methods for classification tasks."
   ]
  },
  {
   "cell_type": "code",
   "execution_count": 18,
   "id": "82581f42",
   "metadata": {},
   "outputs": [
    {
     "name": "stdout",
     "output_type": "stream",
     "text": [
      "Training Accuracy: 0.06205800834991455\n",
      "Test Accuracy: 0.06200757803572503\n"
     ]
    }
   ],
   "source": [
    "# Initialize and fit the K-means model\n",
    "km = KMeans(n_clusters=2)  # Assuming you want 2 clusters (binary)\n",
    "km.fit(X_train)\n",
    "\n",
    "# Predict on the training and test data\n",
    "train_predictions = km.predict(X_train)\n",
    "test_predictions = km.predict(X_test)\n",
    "\n",
    "# Define a lambda function to convert cluster labels to binary\n",
    "convert_to_binary = lambda label: 0 if label == ' - 50000.' else 1\n",
    "\n",
    "# Convert predicted labels to binary\n",
    "train_predictions_binary = np.array([convert_to_binary(label) for label in train_predictions])\n",
    "test_predictions_binary = np.array([convert_to_binary(label) for label in test_predictions])\n",
    "\n",
    "# Convert true labels to binary\n",
    "y_train_binary = np.array([convert_to_binary(label) for label in y_train])\n",
    "y_test_binary = np.array([convert_to_binary(label) for label in y_test])\n",
    "\n",
    "# Calculate and print the accuracy scores\n",
    "train_accuracy = accuracy_score(y_train_binary, train_predictions_binary)\n",
    "test_accuracy = accuracy_score(y_test_binary, test_predictions_binary)\n",
    "print(\"Training Accuracy:\", train_accuracy)\n",
    "print(\"Test Accuracy:\", test_accuracy)"
   ]
  },
  {
   "cell_type": "markdown",
   "id": "6b3bb3d9",
   "metadata": {},
   "source": [
    "The **K-means** model, although not suitable for classification tasks inherently, was applied for binary classification by assigning cluster labels based on the majority class in each cluster. However, the obtained results are significantly poor. Both the **training accuracy** and **test accuracy** are approximately **6.20%**. This outcome showcases that using K-means in this manner is not appropriate for classification, as it's a clustering algorithm by design."
   ]
  },
  {
   "cell_type": "code",
   "execution_count": 19,
   "id": "7d9fa24a",
   "metadata": {},
   "outputs": [
    {
     "name": "stdout",
     "output_type": "stream",
     "text": [
      "Explained Variance Ratio: [0.81605515 0.14201697]\n",
      "Cumulative Explained Variance: [0.81605515 0.95807212]\n"
     ]
    },
    {
     "data": {
      "image/png": "[encoded data removed]",
      "text/plain": [
       "<Figure size 640x480 with 1 Axes>"
      ]
     },
     "metadata": {},
     "output_type": "display_data"
    }
   ],
   "source": [
    "# Perform PCA on X_train with 2 principal components\n",
    "pca = PCA(n_components=2)\n",
    "principal_components_train = pca.fit_transform(X_train)\n",
    "\n",
    "# Access the principal components\n",
    "pc1_train = principal_components_train[:, 0]\n",
    "pc2_train = principal_components_train[:, 1]\n",
    "\n",
    "# Print the explained variance ratio\n",
    "print(\"Explained Variance Ratio:\", pca.explained_variance_ratio_)\n",
    "\n",
    "# Print the cumulative explained variance\n",
    "print(\"Cumulative Explained Variance:\", np.cumsum(pca.explained_variance_ratio_))\n",
    "\n",
    "# Plot the principal components\n",
    "plt.scatter(pc1_train, pc2_train)\n",
    "plt.xlabel(\"Principal Component 1\")\n",
    "plt.ylabel(\"Principal Component 2\")\n",
    "plt.title(\"PCA - 2 Principal Components (Training Data)\")\n",
    "plt.show()"
   ]
  },
  {
   "cell_type": "markdown",
   "id": "e7133043",
   "metadata": {},
   "source": [
    "The **Principal Component Analysis (PCA)** technique was applied to the training data to reduce the dimensionality of the features. By transforming the features into two principal components, **81.61%** of the variance is explained by the first principal component, and **14.20%** by the second component, totaling **95.81%** cumulative explained variance. This indicates that a significant portion of the original feature space can be effectively represented using just two dimensions.\n",
    "\n",
    "The scatter plot of the **principal components** illustrates the distribution of data points in the reduced-dimensional space. The plot showcases how the data points are distributed along the two principal components."
   ]
  },
  {
   "cell_type": "code",
   "execution_count": 20,
   "id": "2ffc4c73",
   "metadata": {},
   "outputs": [
    {
     "data": {
      "image/png": "[encoded data removed]",
      "text/plain": [
       "<Figure size 640x480 with 1 Axes>"
      ]
     },
     "metadata": {},
     "output_type": "display_data"
    }
   ],
   "source": [
    "# Perform PCA on X_test with 2 principal components\n",
    "principal_components_test = pca.transform(X_test)\n",
    "\n",
    "# Access the principal components\n",
    "pc1_test = principal_components_test[:, 0]\n",
    "pc2_test = principal_components_test[:, 1]\n",
    "\n",
    "# Plot the principal components\n",
    "plt.scatter(pc1_test, pc2_test)\n",
    "plt.xlabel(\"Principal Component 1\")\n",
    "plt.ylabel(\"Principal Component 2\")\n",
    "plt.title(\"PCA - 2 Principal Components (Test Data)\")\n",
    "plt.show()"
   ]
  },
  {
   "cell_type": "markdown",
   "id": "9b58d0ed",
   "metadata": {},
   "source": [
    "The **PCA** technique was also applied to the test data to visualize how the data points are distributed in the reduced-dimensional space. The scatter plot of the **principal components** for the test data showcases the distribution of data points based on the two principal components obtained from the PCA transformation.\n",
    "\n",
    "The **plot** illustrates how the test data points are projected onto the reduced-dimensional space."
   ]
  },
  {
   "cell_type": "code",
   "execution_count": 21,
   "id": "a2e2d8e8",
   "metadata": {},
   "outputs": [
    {
     "data": {
      "image/png": "[encoded data removed]",
      "text/plain": [
       "<Figure size 640x480 with 1 Axes>"
      ]
     },
     "metadata": {},
     "output_type": "display_data"
    }
   ],
   "source": [
    "# Combine the principal components into a new feature matrix\n",
    "X_pca = np.column_stack((pc1_train, pc2_train))\n",
    "\n",
    "# Initialize and fit the K-means model\n",
    "kmeans = KMeans(n_clusters=2)\n",
    "kmeans.fit(X_pca)\n",
    "\n",
    "# Get the cluster labels\n",
    "cluster_labels = kmeans.labels_\n",
    "\n",
    "# Plot the clusters\n",
    "plt.scatter(pc1_train, pc2_train, c=cluster_labels)\n",
    "plt.xlabel(\"Principal Component 1\")\n",
    "plt.ylabel(\"Principal Component 2\")\n",
    "plt.title(\"Clusters - PCA\")\n",
    "plt.show()"
   ]
  },
  {
   "cell_type": "markdown",
   "id": "75b8a790",
   "metadata": {},
   "source": [
    "In this code, the principal components obtained from the training data are combined into a new feature matrix `X_pca`. The matrix is then used as input to a **K-means** clustering algorithm. The K-means algorithm aims to partition the data into a specified number of clusters, which in this case is set to 2.\n",
    "\n",
    "After fitting the K-means model to the data, the **cluster labels** for each data point are obtained. These labels indicate which cluster each data point belongs to. To visualize the clustering result, a scatter plot is created using the principal components as the x and y coordinates. The color of each point in the scatter plot represents the cluster to which it belongs, as determined by the K-means algorithm.\n",
    "\n",
    "The resulting scatter plot provides insights into how the K-means algorithm has grouped the data points based on their principal components. Each cluster is represented by a different color, and the plot allows us to visually assess how well the K-means algorithm has separated the data into distinct clusters."
   ]
  },
  {
   "cell_type": "code",
   "execution_count": 23,
   "id": "4bad8dda",
   "metadata": {},
   "outputs": [
    {
     "data": {
      "image/png": "[encoded data removed]",
      "text/plain": [
       "<Figure size 640x480 with 1 Axes>"
      ]
     },
     "metadata": {},
     "output_type": "display_data"
    }
   ],
   "source": [
    "# Sample a subset of the data\n",
    "sample_size = 1000  # Adjust this value as needed\n",
    "X_sample = X_pca[:sample_size]\n",
    "\n",
    "# Perform hierarchical clustering\n",
    "dendrogram = sch.dendrogram(sch.linkage(X_sample, method='ward'))\n",
    "\n",
    "# Visualize the dendrogram\n",
    "plt.xlabel('Samples')\n",
    "plt.ylabel('Distance')\n",
    "plt.title('Dendrogram')\n",
    "plt.show()"
   ]
  },
  {
   "cell_type": "markdown",
   "id": "cb59d47d",
   "metadata": {},
   "source": [
    "In this code, a subset of the data obtained from the principal components (`X_pca`) is sampled to create a smaller dataset for hierarchical clustering. The number of samples in this subset is controlled by the `sample_size` variable, which is set to 1000 in this case.\n",
    "\n",
    "**Hierarchical clustering** is then performed on the sampled data using the `sch.linkage` function with the 'ward' method. The 'ward' method uses the Ward variance minimization algorithm to calculate linkage distances between clusters.\n",
    "\n",
    "The hierarchical clustering result is represented visually using a **dendrogram**. In this dendrogram, the x-axis represents the individual samples, and the y-axis represents the distance at which clusters are merged. The height of the vertical lines in the dendrogram indicates the distances at which clusters are joined together."
   ]
  },
  {
   "cell_type": "code",
   "execution_count": 25,
   "id": "ea124fbb",
   "metadata": {},
   "outputs": [
    {
     "data": {
      "image/png": "[encoded data removed]",
      "text/plain": [
       "<Figure size 640x480 with 1 Axes>"
      ]
     },
     "metadata": {},
     "output_type": "display_data"
    }
   ],
   "source": [
    "# Calculate the within-cluster sum of squares (WCSS) for different values of k\n",
    "wcss = []\n",
    "max_clusters = 10  # Maximum number of clusters to test (adjust as needed)\n",
    "\n",
    "for k in range(1, max_clusters + 1):\n",
    "    kmeans = KMeans(n_clusters=k)\n",
    "    kmeans.fit(X_pca)\n",
    "    wcss.append(kmeans.inertia_)\n",
    "\n",
    "# Plot the elbow curve\n",
    "plt.plot(range(1, max_clusters + 1), wcss)\n",
    "plt.xlabel('Number of Clusters (k)')\n",
    "plt.ylabel('WCSS')\n",
    "plt.title('Elbow Plot')\n",
    "plt.show()"
   ]
  },
  {
   "cell_type": "markdown",
   "id": "65cfdeca",
   "metadata": {},
   "source": [
    "In this code, the **within-cluster sum of squares (WCSS)** is calculated for different values of k (number of clusters) using the K-means algorithm. The objective of the elbow method is to determine the optimal number of clusters by observing the rate of decrease in WCSS as the number of clusters increases.\n",
    "\n",
    "The code iterates through values of k from 1 to the specified `max_clusters` (in this case, 10), and for each value of k, it initializes a K-means model and fits it to the data. The `kmeans.inertia_` attribute provides the WCSS for the current clustering solution, and this value is appended to the `wcss` list.\n",
    "\n",
    "The resulting list of WCSS values is then plotted to create an **elbow plot**. The x-axis of the plot represents the number of clusters (k), and the y-axis represents the corresponding WCSS. The elbow point on the plot is the point of inflection where the rate of decrease in WCSS starts to slow down, resembling an \"elbow\" shape. This point often indicates a suitable number of clusters for the data, as further increasing the number of clusters may not significantly reduce WCSS."
   ]
  },
  {
   "cell_type": "code",
   "execution_count": 30,
   "id": "d59ff65d",
   "metadata": {},
   "outputs": [
    {
     "name": "stdout",
     "output_type": "stream",
     "text": [
      "Number of samples in each cluster:\n",
      "0    199133\n",
      "1       390\n",
      "Name: Cluster, dtype: int64\n"
     ]
    }
   ],
   "source": [
    "# Convert cluster_labels to a Pandas Series\n",
    "cluster_labels_series = pd.Series(cluster_labels, name='Cluster')\n",
    "\n",
    "# Create a DataFrame with X_pca and cluster_labels_series\n",
    "X_pca_clustered = pd.DataFrame(X_pca, columns=['Principal Component 1', 'Principal Component 2'])\n",
    "X_pca_clustered['Cluster'] = cluster_labels_series\n",
    "\n",
    "# Print the number of samples in each cluster\n",
    "print(\"Number of samples in each cluster:\")\n",
    "print(X_pca_clustered['Cluster'].value_counts())"
   ]
  },
  {
   "cell_type": "markdown",
   "id": "f07144ea",
   "metadata": {},
   "source": [
    "In this code, the cluster labels obtained from the K-means algorithm are converted into a Pandas Series called `cluster_labels_series`. This allows for easier manipulation and analysis of the clustering results.\n",
    "\n",
    "A new DataFrame named `X_pca_clustered` is created by combining the original two principal components (`X_pca`) with the cluster labels. The DataFrame's columns are named 'Principal Component 1', 'Principal Component 2', and 'Cluster'.\n",
    "\n",
    "The code then prints the **number of samples in each cluster** using the `value_counts()` method on the 'Cluster' column of the `X_pca_clustered` DataFrame. This provides a count of how many samples belong to each cluster.\n",
    "\n",
    "The output shows the count of samples in each cluster, indicating that Cluster 0 contains 199,133 samples, while Cluster 1 contains 390 samples."
   ]
  },
  {
   "cell_type": "code",
   "execution_count": 32,
   "id": "15be98d3",
   "metadata": {},
   "outputs": [
    {
     "name": "stdout",
     "output_type": "stream",
     "text": [
      "Number of samples in each cluster:\n",
      "Cluster 0: 199133 samples\n",
      "Cluster 1: 390 samples\n"
     ]
    }
   ],
   "source": [
    "# Initialize and fit the K-means model\n",
    "km = KMeans(n_clusters=2, random_state=42)\n",
    "km.fit(X_pca)\n",
    "\n",
    "# Get the cluster labels for each sample\n",
    "cluster_labels = km.labels_\n",
    "\n",
    "# Add the cluster labels to your dataset (X_pca)\n",
    "X_pca_clustered = np.column_stack((X_pca, cluster_labels))\n",
    "\n",
    "# Print the number of samples in each cluster\n",
    "print(\"Number of samples in each cluster:\")\n",
    "unique_labels, counts = np.unique(cluster_labels, return_counts=True)\n",
    "for label, count in zip(unique_labels, counts):\n",
    "    print(f\"Cluster {label}: {count} samples\")"
   ]
  },
  {
   "cell_type": "markdown",
   "id": "2c03b191",
   "metadata": {},
   "source": [
    "In this code:\n",
    "\n",
    "1. A K-means model is initialized and fitted to the data using `KMeans` from scikit-learn. The model is configured to have 2 clusters (`n_clusters=2`) and a specific random state for reproducibility (`random_state=42`).\n",
    "\n",
    "2. The cluster labels for each sample are obtained using the `.labels_` attribute of the fitted K-means model.\n",
    "\n",
    "3. The cluster labels are added to the original PCA-transformed data (`X_pca`) using `np.column_stack`. This combines the original two principal components with the cluster labels, creating a new array called `X_pca_clustered`.\n",
    "\n",
    "4. The code then prints the **number of samples in each cluster**. It uses NumPy's `np.unique()` function to find unique cluster labels along with the corresponding counts of samples in each cluster. The loop then iterates through these unique labels and their counts to print the information.\n",
    "\n",
    "The output provides the counts of samples in each cluster, indicating that Cluster 0 contains 199,133 samples, while Cluster 1 contains 390 samples."
   ]
  },
  {
   "cell_type": "code",
   "execution_count": 34,
   "id": "5a294320",
   "metadata": {},
   "outputs": [
    {
     "name": "stdout",
     "output_type": "stream",
     "text": [
      "Percentage of matching cluster predictions on training data: 93.9435553795803\n"
     ]
    }
   ],
   "source": [
    "# Convert labels in y_train to integers\n",
    "y_train_int = np.where(y_train == ' - 50000.', 0, 1)\n",
    "\n",
    "# Initialize and fit the K-means model with 2 clusters\n",
    "km = KMeans(n_clusters=2, random_state=42)\n",
    "km.fit(X_train)\n",
    "\n",
    "# Get the cluster labels for the training data\n",
    "train_cluster_labels = km.labels_\n",
    "\n",
    "# Calculate the accuracy of cluster predictions on the training data\n",
    "train_accuracy = accuracy_score(y_train_int, train_cluster_labels)\n",
    "matching_percentage = train_accuracy * 100\n",
    "\n",
    "# Print the percentage of matching cluster predictions\n",
    "print(\"Percentage of matching cluster predictions on training data:\", matching_percentage)"
   ]
  },
  {
   "cell_type": "markdown",
   "id": "8037d140",
   "metadata": {},
   "source": [
    "In this code:\n",
    "\n",
    "1. The labels in `y_train` are converted to integers using NumPy's `np.where()` function. The labels ' - 50000.' are converted to 0, and other labels are converted to 1. This creates a new array called `y_train_int`, which represents binary classification labels.\n",
    "\n",
    "2. A K-means model is initialized and fitted to the training data using `KMeans` from scikit-learn. The model is configured to have 2 clusters (`n_clusters=2`) and a specific random state for reproducibility (`random_state=42`).\n",
    "\n",
    "3. The cluster labels for each sample in the training data are obtained using the `.labels_` attribute of the fitted K-means model.\n",
    "\n",
    "4. The accuracy of the cluster predictions on the training data is calculated by comparing the predicted cluster labels with the converted binary labels (`y_train_int`) using `accuracy_score()` from scikit-learn. The matching percentage is calculated by multiplying the accuracy by 100.\n",
    "\n",
    "5. The code then prints the **percentage of matching cluster predictions on the training data**. This percentage represents how well the K-means clusters align with the binary labels. \n",
    "\n",
    "The output shows the calculated percentage of matching cluster predictions on the training data, which is approximately 93.94%. This indicates that the K-means clusters align with the binary labels in the training data to a certain degree. Keep in mind that K-means clustering is an unsupervised method, so it's interesting to see how well it aligns with the supervised binary labels."
   ]
  },
  {
   "cell_type": "code",
   "execution_count": 36,
   "id": "149fa5bc",
   "metadata": {},
   "outputs": [
    {
     "name": "stdout",
     "output_type": "stream",
     "text": [
      "Percentage of matching cluster predictions on test data: 93.94960004811452\n"
     ]
    }
   ],
   "source": [
    "# Convert ground truth labels to numeric format\n",
    "y_test_numeric = np.where(y_test == ' - 50000.', 0, 1)\n",
    "\n",
    "# Calculate the accuracy of cluster predictions on the test data\n",
    "test_accuracy = accuracy_score(y_test_numeric, test_cluster_labels)\n",
    "matching_percentage = test_accuracy * 100\n",
    "\n",
    "# Print the percentage of matching cluster predictions on the test data\n",
    "print(\"Percentage of matching cluster predictions on test data:\", matching_percentage)"
   ]
  },
  {
   "cell_type": "markdown",
   "id": "61b19374",
   "metadata": {},
   "source": [
    "In this code:\n",
    "\n",
    "1. The ground truth labels in `y_test` are converted to numeric format using NumPy's `np.where()` function. The labels ' - 50000.' are converted to 0, and other labels are converted to 1. This creates a new array called `y_test_numeric`, which represents binary classification labels for the test data.\n",
    "\n",
    "2. The accuracy of the cluster predictions on the test data is calculated by comparing the predicted cluster labels (`test_cluster_labels`) with the converted binary labels (`y_test_numeric`) using `accuracy_score()` from scikit-learn. The matching percentage is calculated by multiplying the accuracy by 100.\n",
    "\n",
    "3. The code then prints the **percentage of matching cluster predictions on the test data**. This percentage represents how well the K-means clusters align with the binary labels in the test data.\n",
    "\n",
    "The output shows the calculated percentage of matching cluster predictions on the test data, which is approximately 93.95%. This indicates that the K-means clusters align with the binary labels in the test data to a similar degree as seen in the training data. This consistency between training and test data suggests that the K-means clusters generalize reasonably well."
   ]
  },
  {
   "cell_type": "markdown",
   "id": "32b9919c",
   "metadata": {},
   "source": [
    "## Exploring Income Levels through Cluster Predictions\n",
    "\n",
    "Using cluster predictions as a representation of income levels (income above $50k or income below $50k) can have both advantages and limitations. Here are a few factors to consider:\n",
    "\n",
    "**Advantages:**\n",
    "\n",
    "1. **Simplified Representation:** Clustering can provide a simplified representation of the data by grouping similar individuals together based on their features. This can help in reducing the complexity of the classification problem.\n",
    "\n",
    "2. **Interpretability:** Clusters can be more interpretable and easier to understand than individual data points. It allows for a more intuitive representation of income levels based on common characteristics shared by individuals within each cluster.\n",
    "\n",
    "3. **Potential Insights:** Examining the characteristics of different clusters can provide insights into the factors that contribute to higher or lower income levels. This can help in identifying patterns and making informed decisions or recommendations.\n",
    "\n",
    "**Limitations:**\n",
    "\n",
    "1. **Loss of Granularity:** Clustering reduces the dimensionality of the data and may result in a loss of granularity. It can overlook subtle differences within clusters and may not capture the full spectrum of income levels accurately.\n",
    "\n",
    "2. **Misclassification:** Clustering algorithms like K-means may not always align perfectly with the income levels. There can be cases where individuals within a cluster have different income levels, leading to misclassification.\n",
    "\n",
    "3. **Lack of Probabilistic Interpretation:** Clustering assigns individuals to a single cluster, disregarding the uncertainty or probability associated with income levels. It does not provide probabilistic information about the likelihood of an individual belonging to a specific income group.\n",
    "\n",
    "Considering these factors, using cluster predictions as a representation of income levels can be a reasonable approach for exploratory analysis or to gain initial insights. However, if precise and accurate income predictions are required, it is recommended to use classification models specifically trained for the task, taking into account the complete set of features available in the dataset."
   ]
  },
  {
   "cell_type": "code",
   "execution_count": null,
   "id": "f6d7357c",
   "metadata": {},
   "outputs": [],
   "source": []
  }
 ],
 "metadata": {
  "kernelspec": {
   "display_name": "geo_env",
   "language": "python",
   "name": "geo_env"
  },
  "language_info": {
   "codemirror_mode": {
    "name": "ipython",
    "version": 3
   },
   "file_extension": ".py",
   "mimetype": "text/x-python",
   "name": "python",
   "nbconvert_exporter": "python",
   "pygments_lexer": "ipython3",
   "version": "3.10.5"
  }
 },
 "nbformat": 4,
 "nbformat_minor": 5
}
